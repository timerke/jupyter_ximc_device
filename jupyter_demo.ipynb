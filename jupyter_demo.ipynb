{
 "cells": [
  {
   "cell_type": "markdown",
   "id": "b72f9ae0",
   "metadata": {},
   "source": [
    "# libximc demo"
   ]
  },
  {
   "cell_type": "markdown",
   "id": "e5dc2314",
   "metadata": {},
   "source": [
    "If you do not have the libximc module installed, uncomment following lines."
   ]
  },
  {
   "cell_type": "code",
   "execution_count": 1,
   "id": "27e8ef56",
   "metadata": {},
   "outputs": [],
   "source": [
    "#!pip uninstall ipympl libximc -y\n",
    "#!pip install ipympl libximc git+https://github.com/timerke/ximc_device.git@main#egg=ximc_device --no-cache-dir"
   ]
  },
  {
   "cell_type": "markdown",
   "id": "8b028bec",
   "metadata": {},
   "source": [
    "1. Import required dependancies.\n",
    "2. We are looking for a real controller. If there is no real controller, then a virtual controller will be opened.\n",
    "3. Choose how far the engine should travel."
   ]
  },
  {
   "cell_type": "code",
   "execution_count": 2,
   "id": "6e8307b3",
   "metadata": {},
   "outputs": [
    {
     "data": {
      "application/javascript": [
       "IPython.OutputArea.prototype._should_scroll = function(lines) {\n",
       "    return false;\n",
       "}\n"
      ],
      "text/plain": [
       "<IPython.core.display.Javascript object>"
      ]
     },
     "metadata": {},
     "output_type": "display_data"
    }
   ],
   "source": [
    "%%javascript\n",
    "IPython.OutputArea.prototype._should_scroll = function(lines) {\n",
    "    return false;\n",
    "}"
   ]
  },
  {
   "cell_type": "code",
   "execution_count": 3,
   "id": "f1acbe16",
   "metadata": {},
   "outputs": [
    {
     "name": "stdout",
     "output_type": "stream",
     "text": [
      "Searching for controllers...\n",
      "Device count: 0\n",
      "Real usb controller not found.\n",
      "Real ethernet controller not found.\n",
      "Virtual controller found.\n"
     ]
    },
    {
     "data": {
      "application/vnd.jupyter.widget-view+json": {
       "model_id": "f744677b8f7e4ec9b8adf8a58b63b98c",
       "version_major": 2,
       "version_minor": 0
      },
      "text/plain": [
       "VBox(children=(HTML(value='<h2>Device information</h2>'), Text(value='2.13.6', description='libximc version:',…"
      ]
     },
     "metadata": {},
     "output_type": "display_data"
    },
    {
     "data": {
      "application/vnd.jupyter.widget-view+json": {
       "model_id": "e2b7bcf3548145e387ae4aaffc25db41",
       "version_major": 2,
       "version_minor": 0
      },
      "text/plain": [
       "VBox(children=(VBox(children=(HBox(children=(Button(description='Move left', icon='arrow-left', style=ButtonSt…"
      ]
     },
     "metadata": {},
     "output_type": "display_data"
    }
   ],
   "source": [
    "%matplotlib widget\n",
    "import libximc\n",
    "from ximc_device import run_app\n",
    "\n",
    "run_app()"
   ]
  },
  {
   "cell_type": "code",
   "execution_count": null,
   "id": "29564b3c",
   "metadata": {},
   "outputs": [],
   "source": []
  }
 ],
 "metadata": {
  "kernelspec": {
   "display_name": "Python 3 (ipykernel)",
   "language": "python",
   "name": "python3"
  },
  "language_info": {
   "codemirror_mode": {
    "name": "ipython",
    "version": 3
   },
   "file_extension": ".py",
   "mimetype": "text/x-python",
   "name": "python",
   "nbconvert_exporter": "python",
   "pygments_lexer": "ipython3",
   "version": "3.8.10"
  }
 },
 "nbformat": 4,
 "nbformat_minor": 5
}
