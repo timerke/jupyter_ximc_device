{
 "cells": [
  {
   "cell_type": "markdown",
   "id": "b72f9ae0",
   "metadata": {},
   "source": [
    "# libximc demo"
   ]
  },
  {
   "cell_type": "markdown",
   "id": "e5dc2314",
   "metadata": {},
   "source": [
    "**1. If you are working in Jupyter Notebook and not in Google Colab, you can comment out the following cell or leave it out.**"
   ]
  },
  {
   "cell_type": "code",
   "execution_count": null,
   "id": "27e8ef56",
   "metadata": {},
   "outputs": [],
   "source": [
    "!pip install ipympl libximc matplotlib==3.1.3 git+https://github.com/timerke/ximc_device.git@main#egg=ximc_device --no-cache-dir"
   ]
  },
  {
   "cell_type": "markdown",
   "id": "80c616e6",
   "metadata": {},
   "source": [
    "**2. To work in Google Colab with widgets, be sure to run the following cell.**"
   ]
  },
  {
   "cell_type": "code",
   "execution_count": null,
   "id": "ee17cfa4",
   "metadata": {},
   "outputs": [],
   "source": [
    "try:\n",
    "    from google.colab import output\n",
    "    output.enable_custom_widget_manager()\n",
    "except ModuleNotFoundError:\n",
    "    pass"
   ]
  },
  {
   "cell_type": "markdown",
   "id": "df95c613",
   "metadata": {},
   "source": [
    "**3. To disable auto-scrolling in Jupyter widgets, be sure to run the following cell.**"
   ]
  },
  {
   "cell_type": "code",
   "execution_count": null,
   "id": "99a56d4d",
   "metadata": {},
   "outputs": [],
   "source": [
    "%%javascript\n",
    "IPython.OutputArea.prototype._should_scroll = function(lines) {\n",
    "    return false;\n",
    "}"
   ]
  },
  {
   "cell_type": "markdown",
   "id": "8b028bec",
   "metadata": {},
   "source": [
    "**3. In the next cell you can:**\n",
    "  1. Find and refresh list of available devices.\n",
    "  2. Open any device.\n",
    "  3. Set conversion factor - number of motor steps in one user unit.\n",
    "  4. Close device."
   ]
  },
  {
   "cell_type": "code",
   "execution_count": null,
   "id": "92e17ba5",
   "metadata": {},
   "outputs": [],
   "source": [
    "from ximc_device import OpenPanel\n",
    "\n",
    "open_panel = OpenPanel()"
   ]
  },
  {
   "cell_type": "markdown",
   "id": "af9e92a0",
   "metadata": {},
   "source": [
    "**4. After you have opened the device, you can move motor:**\n",
    "  1. Left;\n",
    "  2. Right;\n",
    "  3. To the desired position;\n",
    "  4. To the desired movement."
   ]
  },
  {
   "cell_type": "code",
   "execution_count": null,
   "id": "f1acbe16",
   "metadata": {},
   "outputs": [],
   "source": [
    "%matplotlib widget\n",
    "from ximc_device import ControlPanel\n",
    "\n",
    "control_panel = ControlPanel(open_panel)"
   ]
  },
  {
   "cell_type": "code",
   "execution_count": null,
   "id": "a9d01616",
   "metadata": {},
   "outputs": [],
   "source": []
  }
 ],
 "metadata": {
  "kernelspec": {
   "display_name": "Python 3",
   "language": "python",
   "name": "python3"
  },
  "language_info": {
   "codemirror_mode": {
    "name": "ipython",
    "version": 3
   },
   "file_extension": ".py",
   "mimetype": "text/x-python",
   "name": "python",
   "nbconvert_exporter": "python",
   "pygments_lexer": "ipython3",
   "version": "3.6.8"
  }
 },
 "nbformat": 4,
 "nbformat_minor": 5
}
