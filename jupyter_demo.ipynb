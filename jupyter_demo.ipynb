{
 "cells": [
  {
   "cell_type": "markdown",
   "id": "b72f9ae0",
   "metadata": {},
   "source": [
    "# libximc demo"
   ]
  },
  {
   "cell_type": "markdown",
   "id": "e5dc2314",
   "metadata": {},
   "source": [
    "1. If you haven't installed the required dependencies yet, uncomment the following line."
   ]
  },
  {
   "cell_type": "code",
   "execution_count": 1,
   "id": "27e8ef56",
   "metadata": {},
   "outputs": [],
   "source": [
    "#!pip install ipympl libximc matplotlib==3.1.3 git+https://github.com/timerke/ximc_device.git@main#egg=ximc_device --no-cache-dir"
   ]
  },
  {
   "cell_type": "markdown",
   "id": "80c616e6",
   "metadata": {},
   "source": [
    "2. To work in Google Colab, be sure to run the following cell."
   ]
  },
  {
   "cell_type": "code",
   "execution_count": 6,
   "id": "ee17cfa4",
   "metadata": {},
   "outputs": [],
   "source": [
    "try:\n",
    "    from google.colab import output\n",
    "    output.enable_custom_widget_manager()\n",
    "except ModuleNotFoundError:\n",
    "    pass"
   ]
  },
  {
   "cell_type": "code",
   "execution_count": 7,
   "id": "6e8307b3",
   "metadata": {},
   "outputs": [
    {
     "data": {
      "application/javascript": [
       "IPython.OutputArea.prototype._should_scroll = function(lines) {\n",
       "    return false;\n",
       "}\n"
      ],
      "text/plain": [
       "<IPython.core.display.Javascript object>"
      ]
     },
     "metadata": {},
     "output_type": "display_data"
    }
   ],
   "source": [
    "%%javascript\n",
    "IPython.OutputArea.prototype._should_scroll = function(lines) {\n",
    "    return false;\n",
    "}"
   ]
  },
  {
   "cell_type": "markdown",
   "id": "8b028bec",
   "metadata": {},
   "source": [
    "3. In the next cell you can:\n",
    "  1. Find and refresh list of available devices.\n",
    "  2. Open any device.\n",
    "  3. Set user units - conversion from motor steps to mm.\n",
    "  4. Close device."
   ]
  },
  {
   "cell_type": "code",
   "execution_count": 8,
   "id": "92e17ba5",
   "metadata": {},
   "outputs": [
    {
     "data": {
      "application/vnd.jupyter.widget-view+json": {
       "model_id": "f9d368401d8b4ef086f5fa145eb9eb6a",
       "version_major": 2,
       "version_minor": 0
      },
      "text/plain": [
       "VBox(children=(HBox(children=(Button(description='Refresh', icon='rotate-right', style=ButtonStyle(), tooltip=…"
      ]
     },
     "metadata": {},
     "output_type": "display_data"
    }
   ],
   "source": [
    "from ximc_device import OpenPanel\n",
    "\n",
    "open_panel = OpenPanel()"
   ]
  },
  {
   "cell_type": "markdown",
   "id": "af9e92a0",
   "metadata": {},
   "source": [
    "4. After you have opened the device, you can move motor:\n",
    "  1. left;\n",
    "  2. right;\n",
    "  3. to the desired position;\n",
    "  4. to the desired movement."
   ]
  },
  {
   "cell_type": "code",
   "execution_count": 9,
   "id": "f1acbe16",
   "metadata": {},
   "outputs": [
    {
     "data": {
      "application/vnd.jupyter.widget-view+json": {
       "model_id": "df9bf158c0454ea892f09ed778e91c87",
       "version_major": 2,
       "version_minor": 0
      },
      "text/plain": [
       "VBox(children=(VBox(children=(HBox(children=(Button(description='Move left', icon='arrow-left', style=ButtonSt…"
      ]
     },
     "metadata": {},
     "output_type": "display_data"
    }
   ],
   "source": [
    "%matplotlib widget\n",
    "from ximc_device import ControlPanel\n",
    "\n",
    "control_panel = ControlPanel(open_panel)"
   ]
  },
  {
   "cell_type": "code",
   "execution_count": null,
   "id": "c700477e",
   "metadata": {},
   "outputs": [],
   "source": []
  }
 ],
 "metadata": {
  "kernelspec": {
   "display_name": "Python 3 (ipykernel)",
   "language": "python",
   "name": "python3"
  },
  "language_info": {
   "codemirror_mode": {
    "name": "ipython",
    "version": 3
   },
   "file_extension": ".py",
   "mimetype": "text/x-python",
   "name": "python",
   "nbconvert_exporter": "python",
   "pygments_lexer": "ipython3",
   "version": "3.9.13"
  }
 },
 "nbformat": 4,
 "nbformat_minor": 5
}
