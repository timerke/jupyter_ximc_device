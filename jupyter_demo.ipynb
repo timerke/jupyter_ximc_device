{
 "cells": [
  {
   "cell_type": "markdown",
   "id": "b72f9ae0",
   "metadata": {},
   "source": [
    "# libximc demo"
   ]
  },
  {
   "cell_type": "markdown",
   "id": "e5dc2314",
   "metadata": {},
   "source": [
    "If you haven't installed the required dependencies yet, uncomment the following line."
   ]
  },
  {
   "cell_type": "code",
   "execution_count": null,
   "id": "27e8ef56",
   "metadata": {},
   "outputs": [],
   "source": [
    "#!pip install ipympl libximc matplotlib==3.1.3 git+https://github.com/timerke/ximc_device.git@main#egg=ximc_device --no-cache-dir"
   ]
  },
  {
   "cell_type": "code",
   "execution_count": null,
   "id": "dd6b6a5f",
   "metadata": {},
   "outputs": [],
   "source": [
    "try:\n",
    "    from google.colab import output\n",
    "    output.enable_custom_widget_manager()\n",
    "except ModuleNotFoundError:\n",
    "    pass"
   ]
  },
  {
   "cell_type": "code",
   "execution_count": null,
   "id": "6e8307b3",
   "metadata": {},
   "outputs": [],
   "source": [
    "%%javascript\n",
    "IPython.OutputArea.prototype._should_scroll = function(lines) {\n",
    "    return false;\n",
    "}"
   ]
  },
  {
   "cell_type": "markdown",
   "id": "8b028bec",
   "metadata": {},
   "source": [
    "1. Import required dependancies.\n",
    "2. We are looking for a real controller. If there is no real controller, then a virtual controller will be opened.\n",
    "3. Choose how far the engine should travel."
   ]
  },
  {
   "cell_type": "code",
   "execution_count": null,
   "id": "f1acbe16",
   "metadata": {},
   "outputs": [],
   "source": [
    "%matplotlib widget\n",
    "import libximc\n",
    "from ximc_device import run_app\n",
    "\n",
    "run_app()"
   ]
  },
  {
   "cell_type": "code",
   "execution_count": null,
   "id": "29564b3c",
   "metadata": {},
   "outputs": [],
   "source": []
  }
 ],
 "metadata": {
  "kernelspec": {
   "display_name": "Python 3 (ipykernel)",
   "language": "python",
   "name": "python3"
  },
  "language_info": {
   "codemirror_mode": {
    "name": "ipython",
    "version": 3
   },
   "file_extension": ".py",
   "mimetype": "text/x-python",
   "name": "python",
   "nbconvert_exporter": "python",
   "pygments_lexer": "ipython3",
   "version": "3.8.10"
  }
 },
 "nbformat": 4,
 "nbformat_minor": 5
}
